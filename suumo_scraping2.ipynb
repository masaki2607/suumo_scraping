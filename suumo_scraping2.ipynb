{
 "cells": [
  {
   "cell_type": "code",
   "execution_count": 1,
   "metadata": {},
   "outputs": [],
   "source": [
    "#ライブラリを読み込む\n",
    "from time import sleep\n",
    "from bs4 import BeautifulSoup\n",
    "import requests\n",
    "import pandas as pd"
   ]
  },
  {
   "cell_type": "code",
   "execution_count": 2,
   "metadata": {},
   "outputs": [],
   "source": [
    "#複数ページから情報を取得する\n",
    "url = 'https://suumo.jp/jj/chintai/ichiran/FR301FC001/?ar=030&bs=040&ta=13&sc=13101&sc=13102&sc=13103&sc=13104&sc=13105&sc=13113&sc=13109&sc=13110&sc=13112&sc=13114&sc=13115&sc=13116&sc=13117&cb=0.0&ct=20.0&et=5&md=07&md=10&cn=5&mb=0&mt=9999999&shkr1=03&shkr2=03&shkr3=03&shkr4=03&fw2=&srch_navi=1&page={}'\n",
    "\n",
    "#変数d_listに空のリストを作成する\n",
    "d_list = []"
   ]
  },
  {
   "cell_type": "code",
   "execution_count": 3,
   "metadata": {},
   "outputs": [],
   "source": [
    "#1~2336をループする\n",
    "for i in range(1,4):\n",
    "    #変数target_urlに、アクセス先のURLを格納する\n",
    "    target_url = url.format(i)\n",
    "   \n",
    "    #target_URLへのアクセス結果を変数rに格納\n",
    "    r =requests.get(target_url)\n",
    "    \n",
    "    #サーバーに負荷をかけないために、１秒おきにfor文を実行する\n",
    "    sleep(1)\n",
    "\n",
    "    #取得結果を解析してsoupに格納\n",
    "    soup = BeautifulSoup(r.text)\n",
    "\n",
    "    #すべての物件情報を取得する\n",
    "    contents = soup.find_all(\"div\",class_=\"cassetteitem\")\n",
    "\n",
    "    #各物件情報をforループで取得する\n",
    "    for content in contents:\n",
    "       #物件情報・部屋情報を取得する\n",
    "       detail = content.find(\"div\",class_=\"cassetteitem-detail\")\n",
    "       table = content.find(\"table\",class_=\"cassetteitem_other\")\n",
    "       #物件情報を取得する\n",
    "       title = detail.find(\"div\",class_=\"cassetteitem_content-title\").text \n",
    "       address = detail.find(\"li\",class_=\"cassetteitem_detail-col1\").text\n",
    "       accsess = detail.find(\"li\",class_=\"cassetteitem_detail-col2\").text\n",
    "       age,floor = detail.find(\"li\",class_=\"cassetteitem_detail-col3\").text.split()\n",
    "       #物件情報から各部屋の情報を取得する\n",
    "       tr_tags = table.find_all(\"tr\",class_=\"js-cassette_link\")\n",
    "       for tr_tag in tr_tags:\n",
    "          #部屋情報の行から欲しい情報を取得する\n",
    "          floor,price,first_fee,capacity = tr_tag.find_all(\"td\")[2:6]\n",
    "          #更に細かい情報を取得する\n",
    "          fee,management_fee = price.find_all(\"li\")\n",
    "          deposit,gratuity = first_fee.find_all(\"li\")\n",
    "          madori,menseki = capacity.find_all(\"li\")\n",
    "          #取得した情報を辞書に格納する\n",
    "          d = {\n",
    "             \"title\":title,\n",
    "             \"address\":address,\n",
    "             \"accsess\":accsess,\n",
    "             \"age\":age,\n",
    "             \"floor\":floor.text,\n",
    "             \"fee\":fee.text,\n",
    "             \"management_fee\":management_fee.text,\n",
    "             \"deposit\":deposit.text,\n",
    "             \"gratuity\":gratuity.text,\n",
    "             \"madori\":madori.text,\n",
    "             \"menseki\":menseki.text\n",
    "             }\n",
    "          #取得した辞書をd_listに格納する\n",
    "          d_list.append(d)\n"
   ]
  },
  {
   "cell_type": "code",
   "execution_count": 4,
   "metadata": {},
   "outputs": [],
   "source": [
    "#変数d=listを使って、データフレームを作成する\n",
    "df = pd.DataFrame(d_list)"
   ]
  },
  {
   "cell_type": "code",
   "execution_count": 5,
   "metadata": {},
   "outputs": [],
   "source": [
    "#データクレンジングを実施する\n",
    "# age列の処理: 築年数のみを抽出し、新築の場合は0に設定\n",
    "import re\n",
    "df['age'] = df['age'].apply(lambda x: 0 if '新築' in x else (int(re.search(r'築(\\d+)年', x).group(1)) if re.search(r'築(\\d+)年', x) else 0))\n",
    "\n",
    "# floor列の処理: 階数の整数部分を抽出\n",
    "def floor_number(i):\n",
    "    if '-' in i:  # メゾネットタイプの場合\n",
    "        return i.split('階')[0]\n",
    "    elif 'B' in i:  # 地下の場合\n",
    "        return int(re.search(r'B(\\d+)', i).group(1)) * -1\n",
    "    else:\n",
    "        return int(re.search(r'(\\d+)階', i).group(1))\n",
    "\n",
    "df['floor'] = df['floor'].apply(floor_number)\n",
    "\n",
    "# 金額関連の列(fee, deposit, gratuity)の処理: 万円を整数に変換\n",
    "def yen_int(yen):\n",
    "    if yen in ['-', '']:\n",
    "        return 0\n",
    "    search = re.search(r'([\\d.]+)万?円', yen) \n",
    "    if search:\n",
    "        return int(float(search.group(1)) * 10000)\n",
    "    return 0  # 万円の形式に一致しない場合は0を返す\n",
    "\n",
    "# management_fee 列の処理: 万円を整数に変換しない\n",
    "def yen_int_no_conversion(yen):\n",
    "    if yen in ['-', '']:\n",
    "        return 0\n",
    "    search = re.search(r'([\\d.]+)万?円', yen) \n",
    "    if search:\n",
    "        return int(float(search.group(1)))  # 万円を整数に変換せずそのまま返す\n",
    "    return 0  # 万円の形式に一致しない場合は0を返す\n",
    "\n",
    "df['fee'] = df['fee'].apply(yen_int)\n",
    "df['management_fee'] = df['management_fee'].apply(yen_int_no_conversion)  # management_fee 列だけ別の処理を適用\n",
    "df['deposit'] = df['deposit'].apply(yen_int)\n",
    "df['gratuity'] = df['gratuity'].apply(yen_int)\n",
    "\n",
    "# area列の処理: 数値のみを抽出\n",
    "df['menseki_m2'] = df['menseki'].apply(lambda x: float(re.search(r'([\\d.]+)m2', x).group(1)))\n",
    "df = df.drop(\"menseki\",axis=1)\n"
   ]
  },
  {
   "cell_type": "code",
   "execution_count": 6,
   "metadata": {},
   "outputs": [
    {
     "data": {
      "text/plain": [
       "179"
      ]
     },
     "execution_count": 6,
     "metadata": {},
     "output_type": "execute_result"
    }
   ],
   "source": [
    "len(df)"
   ]
  },
  {
   "cell_type": "code",
   "execution_count": 7,
   "metadata": {},
   "outputs": [],
   "source": [
    "# データフレームから重複を削除\n",
    "df_ = df.drop_duplicates(['title','address', 'accsess', 'age', 'floor', 'fee', 'management_fee', 'deposit', 'gratuity', 'madori', 'menseki_m2'])\n"
   ]
  },
  {
   "cell_type": "code",
   "execution_count": 8,
   "metadata": {},
   "outputs": [
    {
     "data": {
      "text/plain": [
       "172"
      ]
     },
     "execution_count": 8,
     "metadata": {},
     "output_type": "execute_result"
    }
   ],
   "source": [
    "len(df_)"
   ]
  },
  {
   "cell_type": "code",
   "execution_count": 15,
   "metadata": {},
   "outputs": [],
   "source": [
    "# 必要なライブラリをインポート\n",
    "import gspread\n",
    "from oauth2client.service_account import ServiceAccountCredentials\n",
    "from gspread_dataframe import set_with_dataframe\n",
    "\n",
    "# jsonファイルを使って認証情報を取得\n",
    "SCOPES = [\n",
    "    'https://www.googleapis.com/auth/drive',\n",
    "    'https://spreadsheets.google.com/feeds'\n",
    "]\n",
    "SERVICE_ACCOUNT_FILE = 'suumo-scraiping-f6d1afe73c54.json'\n",
    "credentials = ServiceAccountCredentials.from_json_keyfile_name(SERVICE_ACCOUNT_FILE, SCOPES)\n",
    "\n",
    "# 認証情報を使ってスプレッドシートの操作権を取得\n",
    "gs = gspread.authorize(credentials)\n",
    "\n",
    "# 共有したスプレッドシートのキーを使ってシートの情報を取得\n",
    "SPREADSHEET_KEY = '16DJ352ip2iwRoNppkMK_rMm5_YYlwEkdi_xiceSGSfA'\n",
    "workbook = gs.open_by_key(SPREADSHEET_KEY)\n",
    "\n",
    "# 新しいワークシートを作成\n",
    "workbook.add_worksheet(title=\"suumo_scraping5\", rows=200, cols=20)\n",
    "set_with_dataframe(workbook.worksheet(\"suumo_scraping5\"),df_,include_index=True)"
   ]
  }
 ],
 "metadata": {
  "kernelspec": {
   "display_name": "base",
   "language": "python",
   "name": "python3"
  },
  "language_info": {
   "codemirror_mode": {
    "name": "ipython",
    "version": 3
   },
   "file_extension": ".py",
   "mimetype": "text/x-python",
   "name": "python",
   "nbconvert_exporter": "python",
   "pygments_lexer": "ipython3",
   "version": "3.9.1"
  }
 },
 "nbformat": 4,
 "nbformat_minor": 2
}
