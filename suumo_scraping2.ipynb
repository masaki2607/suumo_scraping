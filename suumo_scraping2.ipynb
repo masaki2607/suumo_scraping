{
 "cells": [
  {
   "cell_type": "code",
   "execution_count": 8,
   "metadata": {},
   "outputs": [],
   "source": [
    "#ライブラリを読み込む\n",
    "from time import sleep\n",
    "from bs4 import BeautifulSoup\n",
    "import requests\n",
    "import pandas as pd"
   ]
  },
  {
   "cell_type": "code",
   "execution_count": 9,
   "metadata": {},
   "outputs": [],
   "source": [
    "#複数ページから情報を取得する\n",
    "url = 'https://suumo.jp/jj/chintai/ichiran/FR301FC001/?ar=030&bs=040&ta=13&sc=13101&sc=13102&sc=13103&sc=13104&sc=13105&sc=13113&sc=13106&sc=13107&sc=13108&sc=13118&sc=13121&sc=13122&sc=13123&sc=13109&sc=13110&sc=13111&sc=13112&sc=13114&sc=13115&sc=13120&sc=13117&sc=13119&cb=10.0&ct=20.0&et=5&md=07&md=10&cn=5&mb=0&mt=9999999&shkr1=03&shkr2=03&shkr3=03&shkr4=03&fw2=&srch_navi=1&page={}'\n",
    "\n",
    "#変数d_listに空のリストを作成する\n",
    "d_list = []"
   ]
  },
  {
   "cell_type": "code",
   "execution_count": 10,
   "metadata": {},
   "outputs": [],
   "source": [
    "#1~2336をループする\n",
    "for i in range(1,12):\n",
    "    #変数target_urlに、アクセス先のURLを格納する\n",
    "    target_url = url.format(i)\n",
    "   \n",
    "    #target_URLへのアクセス結果を変数rに格納\n",
    "    r =requests.get(target_url)\n",
    "    \n",
    "    #サーバーに負荷をかけないために、１秒おきにfor文を実行する\n",
    "    sleep(1)\n",
    "\n",
    "    #取得結果を解析してsoupに格納\n",
    "    soup = BeautifulSoup(r.text)\n",
    "\n",
    "    #すべての物件情報を取得する\n",
    "    contents = soup.find_all(\"div\",class_=\"cassetteitem\")\n",
    "\n",
    "    #各物件情報をforループで取得する\n",
    "    for content in contents:\n",
    "       #物件情報・部屋情報を取得する\n",
    "       detail = content.find(\"div\",class_=\"cassetteitem-detail\")\n",
    "       table = content.find(\"table\",class_=\"cassetteitem_other\")\n",
    "       #物件情報を取得する\n",
    "       title = detail.find(\"div\",class_=\"cassetteitem_content-title\").text \n",
    "       address = detail.find(\"li\",class_=\"cassetteitem_detail-col1\").text\n",
    "       accsess = detail.find(\"li\",class_=\"cassetteitem_detail-col2\").text\n",
    "       age = detail.find(\"li\",class_=\"cassetteitem_detail-col3\").text\n",
    "       #物件情報から各部屋の情報を取得する\n",
    "       tr_tags = table.find_all(\"tr\",class_=\"js-cassette_link\")\n",
    "       for tr_tag in tr_tags:\n",
    "          #部屋情報の行から欲しい情報を取得する\n",
    "          floor,price,first_fee,capacity = tr_tag.find_all(\"td\")[2:6]\n",
    "          #更に細かい情報を取得する\n",
    "          fee,management_fee = price.find_all(\"li\")\n",
    "          deposit,gratuity = first_fee.find_all(\"li\")\n",
    "          madori,menseki = capacity.find_all(\"li\")\n",
    "          #取得した情報を辞書に格納する\n",
    "          d = {\n",
    "             \"title\":title,\n",
    "             \"address\":address,\n",
    "             \"accsess\":accsess,\n",
    "             \"age\":age,\n",
    "             \"floor\":floor.text,\n",
    "             \"fee\":fee.text,\n",
    "             \"management_fee\":management_fee.text,\n",
    "             \"deposit\":deposit.text,\n",
    "             \"gratuity\":gratuity.text,\n",
    "             \"madori\":madori.text,\n",
    "             \"menseki\":menseki.text\n",
    "             }\n",
    "          #取得した辞書をd_listに格納する\n",
    "          d_list.append(d)\n"
   ]
  },
  {
   "cell_type": "code",
   "execution_count": 11,
   "metadata": {},
   "outputs": [],
   "source": [
    "#変数d=listを使って、データフレームを作成する\n",
    "df = pd.DataFrame(d_list)\n",
    "#to_csv()を使って、データフレームをCSV出力する\n",
    "df.to_csv(\"suumo_scraping.csv\",index=None,encoding=\"utf-8-sig\")"
   ]
  }
 ],
 "metadata": {
  "kernelspec": {
   "display_name": "base",
   "language": "python",
   "name": "python3"
  },
  "language_info": {
   "codemirror_mode": {
    "name": "ipython",
    "version": 3
   },
   "file_extension": ".py",
   "mimetype": "text/x-python",
   "name": "python",
   "nbconvert_exporter": "python",
   "pygments_lexer": "ipython3",
   "version": "3.9.1"
  }
 },
 "nbformat": 4,
 "nbformat_minor": 2
}
