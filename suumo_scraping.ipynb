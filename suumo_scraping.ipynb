{
 "cells": [
  {
   "cell_type": "markdown",
   "metadata": {},
   "source": [
    "＜取得予定データ（最低限）＞\n",
    "\n",
    "物件名、住所、間取り、家賃、階数"
   ]
  },
  {
   "cell_type": "markdown",
   "metadata": {},
   "source": [
    "1.ライブラリを読み込む"
   ]
  },
  {
   "cell_type": "code",
   "execution_count": 1,
   "metadata": {},
   "outputs": [],
   "source": [
    "from bs4 import BeautifulSoup\n",
    "import requests"
   ]
  },
  {
   "cell_type": "markdown",
   "metadata": {},
   "source": [
    "2.RequestsでURLにアクセスしてHTMLを解析する"
   ]
  },
  {
   "cell_type": "code",
   "execution_count": 2,
   "metadata": {},
   "outputs": [
    {
     "name": "stdout",
     "output_type": "stream",
     "text": [
      "https://suumo.jp/jj/chintai/ichiran/FR301FC001/?fw2=&mt=9999999&cn=9999999&ta=13&et=9999999&sc=13103&shkr1=03&ar=030&bs=040&ct=9999999&shkr3=03&shkr2=03&srch_navi=1&mb=0&shkr4=03&cb=0.0&page=1\n"
     ]
    }
   ],
   "source": [
    "#RequsetsでURLにアクセスしてHTMLを解析する\n",
    "#変数urlにSUUMOホームページのURLを格納する\n",
    "url = 'https://suumo.jp/jj/chintai/ichiran/FR301FC001/?fw2=&mt=9999999&cn=9999999&ta=13&et=9999999&sc=13103&shkr1=03&ar=030&bs=040&ct=9999999&shkr3=03&shkr2=03&srch_navi=1&mb=0&shkr4=03&cb=0.0&page={}'\n",
    "\n",
    "#アクセスするためのURLをtarget_urlに格納する\n",
    "#SUUMOのURL末尾に「&page={}」を追加し、url.formatで{}の中に数字を追加することで、forループを使えるようにします。\n",
    "target_url = url.format(1)\n",
    "\n",
    "#print()してtarget_urlを確認する\n",
    "print(target_url)"
   ]
  },
  {
   "cell_type": "code",
   "execution_count": 3,
   "metadata": {},
   "outputs": [],
   "source": [
    "#target_URLへのアクセス結果を変数rに格納\n",
    "r =requests.get(target_url)\n",
    "\n",
    "#取得結果を解析してsoupに格納\n",
    "soup = BeautifulSoup(r.text)"
   ]
  },
  {
   "cell_type": "markdown",
   "metadata": {},
   "source": [
    "3.Soupから情報取得する\n",
    "\n",
    "まずは賃貸情報がどのように格納されているか確認。\n",
    "Webページで「検証」を聞くと、HTMLの構造を閲覧できます。\n",
    "\n",
    "今回は[div]タグの[cassetteitem]に格納されているのがわかりました。"
   ]
  },
  {
   "cell_type": "code",
   "execution_count": 9,
   "metadata": {},
   "outputs": [],
   "source": [
    "#cassetteクラスをもったdivタグをすべて取得して、変数contentsに格納\n",
    "contents = soup.find_all(\"div\",class_=\"cassetteitem\")"
   ]
  },
  {
   "cell_type": "code",
   "execution_count": 10,
   "metadata": {},
   "outputs": [
    {
     "data": {
      "text/plain": [
       "30"
      ]
     },
     "execution_count": 10,
     "metadata": {},
     "output_type": "execute_result"
    }
   ],
   "source": [
    "#変数contentsの中身を確認する\n",
    "len(contents)"
   ]
  },
  {
   "cell_type": "code",
   "execution_count": 11,
   "metadata": {},
   "outputs": [],
   "source": [
    "#変数contentにcontentsの最初の要素を格納する\n",
    "content = contents[0]"
   ]
  },
  {
   "cell_type": "markdown",
   "metadata": {},
   "source": [
    "4.物件情報と部屋情報が入ったブロックを取得する"
   ]
  },
  {
   "cell_type": "code",
   "execution_count": 12,
   "metadata": {},
   "outputs": [],
   "source": [
    "#物件・建物情報を変数detailに格納する\n",
    "detail = content.find(\"div\",class_=\"cassetteitem-detail\")\n",
    "#各部屋の情報を変数tabeleに格納する\n",
    "table = content.find(\"table\",class_=\"cassetteitem_other\")"
   ]
  },
  {
   "cell_type": "markdown",
   "metadata": {},
   "source": [
    "5.物件情報を取得する"
   ]
  },
  {
   "cell_type": "code",
   "execution_count": 16,
   "metadata": {},
   "outputs": [],
   "source": [
    "#変数tatleに、物件名を格納する\n",
    "title = detail.find(\"div\",class_=\"cassetteitem_content-title\").text\n",
    "#変数adressに住所を格納する\n",
    "address = detail.find(\"li\",class_=\"cassetteitem_detail-col1\").text\n",
    "#変数accsessにアクセス情報を格納する\n",
    "accsess = detail.find(\"li\",class_=\"cassetteitem_detail-col2\").text\n",
    "#変数ageに築年数を格納する\n",
    "age = detail.find(\"li\",class_=\"cassetteitem_detail-col3\").text"
   ]
  },
  {
   "cell_type": "code",
   "execution_count": 17,
   "metadata": {},
   "outputs": [
    {
     "data": {
      "text/plain": [
       "('東京メトロ千代田線 赤坂駅 11階建 築11年',\n",
       " '東京都港区赤坂２',\n",
       " '\\n東京メトロ千代田線/赤坂駅 歩4分\\n東京メトロ銀座線/溜池山王駅 歩5分\\n東京メトロ南北線/六本木一丁目駅 歩10分\\n',\n",
       " '\\n築11年\\n11階建\\n')"
      ]
     },
     "execution_count": 17,
     "metadata": {},
     "output_type": "execute_result"
    }
   ],
   "source": [
    "title,address,accsess,age"
   ]
  },
  {
   "cell_type": "markdown",
   "metadata": {},
   "source": [
    "6.部屋の情報を抽出する"
   ]
  },
  {
   "cell_type": "code",
   "execution_count": 18,
   "metadata": {},
   "outputs": [],
   "source": [
    "#変数tableからすべてのtrタグを取得して、変数tr_tagsに格納\n",
    "tr_tags = table.find_all(\"tr\",class_=\"js-cassette_link\")\n",
    "#tr_targsの中から最初の１つだけtr_tagに格納\n",
    "tr_tag = tr_tags[0]"
   ]
  },
  {
   "cell_type": "code",
   "execution_count": 19,
   "metadata": {},
   "outputs": [],
   "source": [
    "#変数floor,price,first_fee,capacityに４つ情報を格納する\n",
    "#2~6番目の\"td\"のタグに上記の４つの情報がある\n",
    "floor,price,first_fee,capacity = tr_tag.find_all(\"td\")[2:6]"
   ]
  },
  {
   "cell_type": "code",
   "execution_count": 20,
   "metadata": {},
   "outputs": [
    {
     "data": {
      "text/plain": [
       "(<td>\n",
       " \t\t\t\t\t\t\t\t\t\t\t9階</td>,\n",
       " <td>\n",
       " <ul>\n",
       " <li><span class=\"cassetteitem_price cassetteitem_price--rent\"><span class=\"cassetteitem_other-emphasis ui-text--bold\">31.2万円</span></span></li>\n",
       " <li><span class=\"cassetteitem_price cassetteitem_price--administration\">15000円</span></li>\n",
       " </ul>\n",
       " </td>,\n",
       " <td>\n",
       " <ul>\n",
       " <li><span class=\"cassetteitem_price cassetteitem_price--deposit\">31.2万円</span></li>\n",
       " <li><span class=\"cassetteitem_price cassetteitem_price--gratuity\">31.2万円</span></li>\n",
       " </ul>\n",
       " </td>,\n",
       " <td>\n",
       " <ul>\n",
       " <li><span class=\"cassetteitem_madori\">1SLDK</span></li>\n",
       " <li><span class=\"cassetteitem_menseki\">53.75m<sup>2</sup></span></li>\n",
       " </ul>\n",
       " </td>)"
      ]
     },
     "execution_count": 20,
     "metadata": {},
     "output_type": "execute_result"
    }
   ],
   "source": [
    "floor,price,first_fee,capacity"
   ]
  },
  {
   "cell_type": "code",
   "execution_count": 22,
   "metadata": {},
   "outputs": [],
   "source": [
    "#変数Feeとmanagement_feeに賃料と管理費を格納する\n",
    "fee,management_fee = price.find_all(\"li\")\n",
    "#変数depositとgratuityに敷金と礼金を格納する\n",
    "deposit,gratuity = first_fee.find_all(\"li\")\n",
    "#変数madoriとmensekiに間取りと面積を格納する\n",
    "madori,menseki = capacity.find_all(\"li\")"
   ]
  },
  {
   "cell_type": "code",
   "execution_count": 23,
   "metadata": {},
   "outputs": [
    {
     "name": "stdout",
     "output_type": "stream",
     "text": [
      "<li><span class=\"cassetteitem_price cassetteitem_price--rent\"><span class=\"cassetteitem_other-emphasis ui-text--bold\">31.2万円</span></span></li>\n",
      "<li><span class=\"cassetteitem_price cassetteitem_price--administration\">15000円</span></li>\n",
      "\n",
      "<li><span class=\"cassetteitem_price cassetteitem_price--deposit\">31.2万円</span></li>\n",
      "<li><span class=\"cassetteitem_price cassetteitem_price--gratuity\">31.2万円</span></li>\n",
      "\n",
      "<li><span class=\"cassetteitem_madori\">1SLDK</span></li>\n",
      "<li><span class=\"cassetteitem_menseki\">53.75m<sup>2</sup></span></li>\n",
      "\n"
     ]
    }
   ],
   "source": [
    "print(fee)\n",
    "print(management_fee)\n",
    "print()\n",
    "\n",
    "print(deposit)\n",
    "print(gratuity)\n",
    "print()\n",
    "\n",
    "print(madori)\n",
    "print(menseki)\n",
    "print()"
   ]
  },
  {
   "cell_type": "markdown",
   "metadata": {},
   "source": [
    "7.取得した情報を辞書に格納する"
   ]
  },
  {
   "cell_type": "code",
   "execution_count": 27,
   "metadata": {},
   "outputs": [],
   "source": [
    "d = {\n",
    "    \"title\":title,\n",
    "    \"address\":address,\n",
    "    \"accsess\":accsess,\n",
    "    \"age\":age,\n",
    "    \"floor\":floor.text,\n",
    "    \"fee\":fee.text,\n",
    "    \"management_fee\":management_fee.text,\n",
    "    \"deposit\":deposit.text,\n",
    "    \"gratuity\":gratuity.text,\n",
    "    \"madori\":madori.text,\n",
    "    \"menseki\":menseki.text\n",
    "}"
   ]
  },
  {
   "cell_type": "code",
   "execution_count": 28,
   "metadata": {},
   "outputs": [
    {
     "data": {
      "text/plain": [
       "{'title': '東京メトロ千代田線 赤坂駅 11階建 築11年',\n",
       " 'address': '東京都港区赤坂２',\n",
       " 'accsess': '\\n東京メトロ千代田線/赤坂駅 歩4分\\n東京メトロ銀座線/溜池山王駅 歩5分\\n東京メトロ南北線/六本木一丁目駅 歩10分\\n',\n",
       " 'age': '\\n築11年\\n11階建\\n',\n",
       " 'floor': '\\r\\n\\t\\t\\t\\t\\t\\t\\t\\t\\t\\t\\t9階',\n",
       " 'fee': '31.2万円',\n",
       " 'management_fee': '15000円',\n",
       " 'deposit': '31.2万円',\n",
       " 'gratuity': '31.2万円',\n",
       " 'madori': '1SLDK',\n",
       " 'menseki': '53.75m2'}"
      ]
     },
     "execution_count": 28,
     "metadata": {},
     "output_type": "execute_result"
    }
   ],
   "source": [
    "d"
   ]
  },
  {
   "cell_type": "markdown",
   "metadata": {},
   "source": [
    "8.すべての物件情報の取得"
   ]
  },
  {
   "cell_type": "code",
   "execution_count": 32,
   "metadata": {},
   "outputs": [],
   "source": [
    "#変数d_listに空のリストを作成する\n",
    "d_list = []\n",
    "\n",
    "#すべての物件情報（30件）取得する\n",
    "contents = soup.find_all(\"div\",class_=\"cassetteitem\")\n",
    "\n",
    "#各物件情報をforループで取得する\n",
    "for content in contents:\n",
    "    #物件情報・部屋情報を取得する\n",
    "    detail = content.find(\"div\",class_=\"cassetteitem-detail\")\n",
    "    table = content.find(\"table\",class_=\"cassetteitem_other\")\n",
    "    #物件情報を取得する\n",
    "    title = detail.find(\"div\",class_=\"cassetteitem_content-title\").text \n",
    "    address = detail.find(\"li\",class_=\"cassetteitem_detail-col1\").text\n",
    "    accsess = detail.find(\"li\",class_=\"cassetteitem_detail-col2\").text\n",
    "    age = detail.find(\"li\",class_=\"cassetteitem_detail-col3\").text\n",
    "    #物件情報から各部屋の情報を取得する\n",
    "    tr_tags = table.find_all(\"tr\",class_=\"js-cassette_link\")\n",
    "    for tr_tag in tr_tags:\n",
    "        #部屋情報の行から欲しい情報を取得する\n",
    "        floor,price,first_fee,capacity = tr_tag.find_all(\"td\")[2:6]\n",
    "        #更に細かい情報を取得する\n",
    "        fee,management_fee = price.find_all(\"li\")\n",
    "        deposit,gratuity = first_fee.find_all(\"li\")\n",
    "        madori,menseki = capacity.find_all(\"li\")\n",
    "        #取得した情報を辞書に格納する\n",
    "        d = {\n",
    "           \"title\":title,\n",
    "           \"address\":address,\n",
    "           \"accsess\":accsess,\n",
    "           \"age\":age,\n",
    "           \"floor\":floor.text,\n",
    "           \"fee\":fee.text,\n",
    "           \"management_fee\":management_fee.text,\n",
    "           \"deposit\":deposit.text,\n",
    "           \"gratuity\":gratuity.text,\n",
    "           \"madori\":madori.text,\n",
    "           \"menseki\":menseki.text\n",
    "        }\n",
    "        #取得した辞書をd_listに格納する\n",
    "        d_list.append(d)\n",
    "\n",
    "        "
   ]
  },
  {
   "cell_type": "code",
   "execution_count": 33,
   "metadata": {},
   "outputs": [
    {
     "name": "stdout",
     "output_type": "stream",
     "text": [
      "{'accsess': '\\n東京メトロ千代田線/赤坂駅 歩4分\\n東京メトロ銀座線/溜池山王駅 歩5分\\n東京メトロ南北線/六本木一丁目駅 歩10分\\n',\n",
      " 'address': '東京都港区赤坂２',\n",
      " 'age': '\\n築11年\\n11階建\\n',\n",
      " 'deposit': '31.2万円',\n",
      " 'fee': '31.2万円',\n",
      " 'floor': '\\r\\n\\t\\t\\t\\t\\t\\t\\t\\t\\t\\t\\t9階',\n",
      " 'gratuity': '31.2万円',\n",
      " 'madori': '1SLDK',\n",
      " 'management_fee': '15000円',\n",
      " 'menseki': '53.75m2',\n",
      " 'title': '東京メトロ千代田線 赤坂駅 11階建 築11年'}\n",
      "\n",
      "{'accsess': '\\n東京メトロ千代田線/赤坂駅 歩4分\\n東京メトロ銀座線/溜池山王駅 歩5分\\n東京メトロ南北線/六本木一丁目駅 歩10分\\n',\n",
      " 'address': '東京都港区赤坂２',\n",
      " 'age': '\\n築11年\\n11階建\\n',\n",
      " 'deposit': '32.2万円',\n",
      " 'fee': '32.2万円',\n",
      " 'floor': '\\r\\n\\t\\t\\t\\t\\t\\t\\t\\t\\t\\t\\t6階',\n",
      " 'gratuity': '-',\n",
      " 'madori': '2LDK',\n",
      " 'management_fee': '15000円',\n",
      " 'menseki': '55.36m2',\n",
      " 'title': '東京メトロ千代田線 赤坂駅 11階建 築11年'}\n"
     ]
    }
   ],
   "source": [
    "from pprint import  pprint\n",
    "pprint(d_list[0])\n",
    "print()\n",
    "pprint(d_list[1])"
   ]
  },
  {
   "cell_type": "markdown",
   "metadata": {},
   "source": [
    "9.複数のページのスクレピングを実行する"
   ]
  },
  {
   "cell_type": "code",
   "execution_count": 7,
   "metadata": {},
   "outputs": [],
   "source": [
    "#ライブラリを読み込む\n",
    "from time import sleep\n",
    "from bs4 import BeautifulSoup\n",
    "import requests\n",
    "import pandas as pd"
   ]
  },
  {
   "cell_type": "code",
   "execution_count": 8,
   "metadata": {},
   "outputs": [],
   "source": [
    "#複数ページから情報を取得する\n",
    "url = 'https://suumo.jp/jj/chintai/ichiran/FR301FC001/?fw2=&mt=9999999&cn=9999999&ta=13&et=9999999&sc=13103&shkr1=03&ar=030&bs=040&ct=9999999&shkr3=03&shkr2=03&srch_navi=1&mb=0&shkr4=03&cb=0.0&page={}'\n",
    "\n",
    "#変数d_listに空のリストを作成する\n",
    "d_list = []\n",
    "\n"
   ]
  },
  {
   "cell_type": "code",
   "execution_count": 9,
   "metadata": {},
   "outputs": [
    {
     "name": "stdout",
     "output_type": "stream",
     "text": [
      "d_listの大きさ: 0\n",
      "d_listの大きさ: 195\n",
      "d_listの大きさ: 346\n",
      "d_listの大きさ: 605\n",
      "d_listの大きさ: 774\n",
      "d_listの大きさ: 994\n",
      "d_listの大きさ: 1127\n",
      "d_listの大きさ: 1295\n",
      "d_listの大きさ: 1486\n"
     ]
    }
   ],
   "source": [
    "#1~3をループする\n",
    "for i in range(1,10):\n",
    "    print(\"d_listの大きさ:\",len(d_list))\n",
    "    #変数target_urlに、アクセス先のURLを格納する\n",
    "    target_url = url.format(i)\n",
    "   \n",
    "    #target_URLへのアクセス結果を変数rに格納\n",
    "    r =requests.get(target_url)\n",
    "    \n",
    "    #サーバーに負荷をかけないために、１秒おきにfor文を実行する\n",
    "    sleep(1)\n",
    "\n",
    "    #取得結果を解析してsoupに格納\n",
    "    soup = BeautifulSoup(r.text)\n",
    "\n",
    "    #すべての物件情報（30件）取得する\n",
    "    contents = soup.find_all(\"div\",class_=\"cassetteitem\")\n",
    "\n",
    "    #各物件情報をforループで取得する\n",
    "    for content in contents:\n",
    "       #物件情報・部屋情報を取得する\n",
    "       detail = content.find(\"div\",class_=\"cassetteitem-detail\")\n",
    "       table = content.find(\"table\",class_=\"cassetteitem_other\")\n",
    "       #物件情報を取得する\n",
    "       title = detail.find(\"div\",class_=\"cassetteitem_content-title\").text \n",
    "       address = detail.find(\"li\",class_=\"cassetteitem_detail-col1\").text\n",
    "       accsess = detail.find(\"li\",class_=\"cassetteitem_detail-col2\").text\n",
    "       age = detail.find(\"li\",class_=\"cassetteitem_detail-col3\").text\n",
    "       #物件情報から各部屋の情報を取得する\n",
    "       tr_tags = table.find_all(\"tr\",class_=\"js-cassette_link\")\n",
    "       for tr_tag in tr_tags:\n",
    "          #部屋情報の行から欲しい情報を取得する\n",
    "          floor,price,first_fee,capacity = tr_tag.find_all(\"td\")[2:6]\n",
    "          #更に細かい情報を取得する\n",
    "          fee,management_fee = price.find_all(\"li\")\n",
    "          deposit,gratuity = first_fee.find_all(\"li\")\n",
    "          madori,menseki = capacity.find_all(\"li\")\n",
    "          #取得した情報を辞書に格納する\n",
    "          d = {\n",
    "             \"title\":title,\n",
    "             \"address\":address,\n",
    "             \"accsess\":accsess,\n",
    "             \"age\":age,\n",
    "             \"floor\":floor.text,\n",
    "             \"fee\":fee.text,\n",
    "             \"management_fee\":management_fee.text,\n",
    "             \"deposit\":deposit.text,\n",
    "             \"gratuity\":gratuity.text,\n",
    "             \"madori\":madori.text,\n",
    "             \"menseki\":menseki.text\n",
    "             }\n",
    "          #取得した辞書をd_listに格納する\n",
    "          d_list.append(d)\n"
   ]
  },
  {
   "cell_type": "code",
   "execution_count": 10,
   "metadata": {},
   "outputs": [],
   "source": [
    "#変数d=listを使って、データフレームを作成する\n",
    "df = pd.DataFrame(d_list)"
   ]
  },
  {
   "cell_type": "code",
   "execution_count": 11,
   "metadata": {},
   "outputs": [
    {
     "data": {
      "text/html": [
       "<div>\n",
       "<style scoped>\n",
       "    .dataframe tbody tr th:only-of-type {\n",
       "        vertical-align: middle;\n",
       "    }\n",
       "\n",
       "    .dataframe tbody tr th {\n",
       "        vertical-align: top;\n",
       "    }\n",
       "\n",
       "    .dataframe thead th {\n",
       "        text-align: right;\n",
       "    }\n",
       "</style>\n",
       "<table border=\"1\" class=\"dataframe\">\n",
       "  <thead>\n",
       "    <tr style=\"text-align: right;\">\n",
       "      <th></th>\n",
       "      <th>title</th>\n",
       "      <th>address</th>\n",
       "      <th>accsess</th>\n",
       "      <th>age</th>\n",
       "      <th>floor</th>\n",
       "      <th>fee</th>\n",
       "      <th>management_fee</th>\n",
       "      <th>deposit</th>\n",
       "      <th>gratuity</th>\n",
       "      <th>madori</th>\n",
       "      <th>menseki</th>\n",
       "    </tr>\n",
       "  </thead>\n",
       "  <tbody>\n",
       "    <tr>\n",
       "      <th>0</th>\n",
       "      <td>東京メトロ千代田線 赤坂駅 11階建 築11年</td>\n",
       "      <td>東京都港区赤坂２</td>\n",
       "      <td>\\n東京メトロ千代田線/赤坂駅 歩4分\\n東京メトロ銀座線/溜池山王駅 歩5分\\n東京メトロ...</td>\n",
       "      <td>\\n築11年\\n11階建\\n</td>\n",
       "      <td>\\r\\n\\t\\t\\t\\t\\t\\t\\t\\t\\t\\t\\t9階</td>\n",
       "      <td>31.2万円</td>\n",
       "      <td>15000円</td>\n",
       "      <td>31.2万円</td>\n",
       "      <td>31.2万円</td>\n",
       "      <td>2LDK</td>\n",
       "      <td>53.75m2</td>\n",
       "    </tr>\n",
       "    <tr>\n",
       "      <th>1</th>\n",
       "      <td>東京メトロ千代田線 赤坂駅 11階建 築11年</td>\n",
       "      <td>東京都港区赤坂２</td>\n",
       "      <td>\\n東京メトロ千代田線/赤坂駅 歩4分\\n東京メトロ銀座線/溜池山王駅 歩5分\\n東京メトロ...</td>\n",
       "      <td>\\n築11年\\n11階建\\n</td>\n",
       "      <td>\\r\\n\\t\\t\\t\\t\\t\\t\\t\\t\\t\\t\\t6階</td>\n",
       "      <td>32.2万円</td>\n",
       "      <td>15000円</td>\n",
       "      <td>32.2万円</td>\n",
       "      <td>32.2万円</td>\n",
       "      <td>2LDK</td>\n",
       "      <td>55.36m2</td>\n",
       "    </tr>\n",
       "    <tr>\n",
       "      <th>2</th>\n",
       "      <td>東京メトロ銀座線 外苑前駅 地下1地上3階建 築21年</td>\n",
       "      <td>東京都港区南青山４</td>\n",
       "      <td>\\n東京メトロ銀座線/外苑前駅 歩9分\\n東京メトロ銀座線/表参道駅 歩10分\\n東京メトロ...</td>\n",
       "      <td>\\n築21年\\n地下1地上3階建\\n</td>\n",
       "      <td>\\r\\n\\t\\t\\t\\t\\t\\t\\t\\t\\t\\t\\t1階</td>\n",
       "      <td>350万円</td>\n",
       "      <td>-</td>\n",
       "      <td>1400万円</td>\n",
       "      <td>350万円</td>\n",
       "      <td>10SLDK</td>\n",
       "      <td>629.78m2</td>\n",
       "    </tr>\n",
       "    <tr>\n",
       "      <th>3</th>\n",
       "      <td>東京メトロ銀座線 外苑前駅 地下1地上3階建 築21年</td>\n",
       "      <td>東京都港区南青山４</td>\n",
       "      <td>\\n東京メトロ銀座線/外苑前駅 歩9分\\n東京メトロ銀座線/表参道駅 歩10分\\n東京メトロ...</td>\n",
       "      <td>\\n築21年\\n地下1地上3階建\\n</td>\n",
       "      <td>\\r\\n\\t\\t\\t\\t\\t\\t\\t\\t\\t\\t\\t1階</td>\n",
       "      <td>350万円</td>\n",
       "      <td>-</td>\n",
       "      <td>1400万円</td>\n",
       "      <td>350万円</td>\n",
       "      <td>10LDK</td>\n",
       "      <td>629.78m2</td>\n",
       "    </tr>\n",
       "    <tr>\n",
       "      <th>4</th>\n",
       "      <td>ＳＵＮ　ＣＡＳＴＬＥ</td>\n",
       "      <td>東京都港区南青山４</td>\n",
       "      <td>\\n東京メトロ銀座線/外苑前駅 歩8分\\n東京メトロ銀座線/表参道駅 歩9分\\n東京メトロ千...</td>\n",
       "      <td>\\n築21年\\n3階建\\n</td>\n",
       "      <td>\\r\\n\\t\\t\\t\\t\\t\\t\\t\\t\\t\\t\\t1階</td>\n",
       "      <td>350万円</td>\n",
       "      <td>-</td>\n",
       "      <td>1400万円</td>\n",
       "      <td>350万円</td>\n",
       "      <td>ワンルーム</td>\n",
       "      <td>629.78m2</td>\n",
       "    </tr>\n",
       "  </tbody>\n",
       "</table>\n",
       "</div>"
      ],
      "text/plain": [
       "                         title    address  \\\n",
       "0      東京メトロ千代田線 赤坂駅 11階建 築11年   東京都港区赤坂２   \n",
       "1      東京メトロ千代田線 赤坂駅 11階建 築11年   東京都港区赤坂２   \n",
       "2  東京メトロ銀座線 外苑前駅 地下1地上3階建 築21年  東京都港区南青山４   \n",
       "3  東京メトロ銀座線 外苑前駅 地下1地上3階建 築21年  東京都港区南青山４   \n",
       "4                   ＳＵＮ　ＣＡＳＴＬＥ  東京都港区南青山４   \n",
       "\n",
       "                                             accsess                 age  \\\n",
       "0  \\n東京メトロ千代田線/赤坂駅 歩4分\\n東京メトロ銀座線/溜池山王駅 歩5分\\n東京メトロ...      \\n築11年\\n11階建\\n   \n",
       "1  \\n東京メトロ千代田線/赤坂駅 歩4分\\n東京メトロ銀座線/溜池山王駅 歩5分\\n東京メトロ...      \\n築11年\\n11階建\\n   \n",
       "2  \\n東京メトロ銀座線/外苑前駅 歩9分\\n東京メトロ銀座線/表参道駅 歩10分\\n東京メトロ...  \\n築21年\\n地下1地上3階建\\n   \n",
       "3  \\n東京メトロ銀座線/外苑前駅 歩9分\\n東京メトロ銀座線/表参道駅 歩10分\\n東京メトロ...  \\n築21年\\n地下1地上3階建\\n   \n",
       "4  \\n東京メトロ銀座線/外苑前駅 歩8分\\n東京メトロ銀座線/表参道駅 歩9分\\n東京メトロ千...       \\n築21年\\n3階建\\n   \n",
       "\n",
       "                          floor     fee management_fee deposit gratuity  \\\n",
       "0  \\r\\n\\t\\t\\t\\t\\t\\t\\t\\t\\t\\t\\t9階  31.2万円         15000円  31.2万円   31.2万円   \n",
       "1  \\r\\n\\t\\t\\t\\t\\t\\t\\t\\t\\t\\t\\t6階  32.2万円         15000円  32.2万円   32.2万円   \n",
       "2  \\r\\n\\t\\t\\t\\t\\t\\t\\t\\t\\t\\t\\t1階   350万円              -  1400万円    350万円   \n",
       "3  \\r\\n\\t\\t\\t\\t\\t\\t\\t\\t\\t\\t\\t1階   350万円              -  1400万円    350万円   \n",
       "4  \\r\\n\\t\\t\\t\\t\\t\\t\\t\\t\\t\\t\\t1階   350万円              -  1400万円    350万円   \n",
       "\n",
       "   madori   menseki  \n",
       "0    2LDK   53.75m2  \n",
       "1    2LDK   55.36m2  \n",
       "2  10SLDK  629.78m2  \n",
       "3   10LDK  629.78m2  \n",
       "4   ワンルーム  629.78m2  "
      ]
     },
     "execution_count": 11,
     "metadata": {},
     "output_type": "execute_result"
    }
   ],
   "source": [
    "#データフレームの先頭５行を確認する\n",
    "df.head()"
   ]
  },
  {
   "cell_type": "code",
   "execution_count": 18,
   "metadata": {},
   "outputs": [],
   "source": [
    "#to_csv()を使って、データフレームをCSV出力する\n",
    "df.to_csv(\"suumo_scraping2.csv\",index=None,encoding=\"utf-8-sig\")"
   ]
  }
 ],
 "metadata": {
  "kernelspec": {
   "display_name": "base",
   "language": "python",
   "name": "python3"
  },
  "language_info": {
   "codemirror_mode": {
    "name": "ipython",
    "version": 3
   },
   "file_extension": ".py",
   "mimetype": "text/x-python",
   "name": "python",
   "nbconvert_exporter": "python",
   "pygments_lexer": "ipython3",
   "version": "3.9.1"
  }
 },
 "nbformat": 4,
 "nbformat_minor": 2
}
